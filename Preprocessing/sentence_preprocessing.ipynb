{
 "cells": [
  {
   "cell_type": "code",
   "execution_count": 8,
   "id": "7fc9d968",
   "metadata": {},
   "outputs": [],
   "source": [
    "import torch\n",
    "import torch.nn as nn\n",
    "import torch.optim as optim\n",
    "from torch.utils.data import DataLoader\n",
    "import math\n",
    "import torchtext\n",
    "import datasets\n",
    "from tqdm import tqdm\n",
    "import numpy as np\n",
    "import pandas as pd\n",
    "import matplotlib\n",
    "import matplotlib.pyplot as plt\n",
    "from collections import Counter\n",
    "import os"
   ]
  },
  {
   "cell_type": "code",
   "execution_count": 9,
   "id": "8c831447",
   "metadata": {},
   "outputs": [
    {
     "name": "stderr",
     "output_type": "stream",
     "text": [
      "Repo card metadata block was not found. Setting CardData to empty.\n"
     ]
    },
    {
     "name": "stdout",
     "output_type": "stream",
     "text": [
      "DatasetDict({\n",
      "    train: Dataset({\n",
      "        features: ['text', 'label', 'label_text'],\n",
      "        num_rows: 16000\n",
      "    })\n",
      "    validation: Dataset({\n",
      "        features: ['text', 'label', 'label_text'],\n",
      "        num_rows: 2000\n",
      "    })\n",
      "    test: Dataset({\n",
      "        features: ['text', 'label', 'label_text'],\n",
      "        num_rows: 2000\n",
      "    })\n",
      "})\n",
      "i feel so worthless during those times i was struggling finding work\n"
     ]
    }
   ],
   "source": [
    "from datasets import load_dataset\n",
    "dataset = load_dataset(\"SetFit/emotion\")\n",
    "print(dataset)\n",
    "print(dataset['train'][88]['text'])"
   ]
  },
  {
   "cell_type": "code",
   "execution_count": 3,
   "id": "a0e7a291",
   "metadata": {},
   "outputs": [
    {
     "name": "stderr",
     "output_type": "stream",
     "text": [
      "/home/joyce/.local/lib/python3.10/site-packages/torchtext/data/__init__.py:4: UserWarning: \n",
      "/!\\ IMPORTANT WARNING ABOUT TORCHTEXT STATUS /!\\ \n",
      "Torchtext is deprecated and the last released version will be 0.18 (this one). You can silence this warning by calling the following at the beginnign of your scripts: `import torchtext; torchtext.disable_torchtext_deprecation_warning()`\n",
      "  warnings.warn(torchtext._TORCHTEXT_DEPRECATION_MSG)\n",
      "/home/joyce/.local/lib/python3.10/site-packages/torchtext/vocab/__init__.py:4: UserWarning: \n",
      "/!\\ IMPORTANT WARNING ABOUT TORCHTEXT STATUS /!\\ \n",
      "Torchtext is deprecated and the last released version will be 0.18 (this one). You can silence this warning by calling the following at the beginnign of your scripts: `import torchtext; torchtext.disable_torchtext_deprecation_warning()`\n",
      "  warnings.warn(torchtext._TORCHTEXT_DEPRECATION_MSG)\n",
      "/home/joyce/.local/lib/python3.10/site-packages/torchtext/utils.py:4: UserWarning: \n",
      "/!\\ IMPORTANT WARNING ABOUT TORCHTEXT STATUS /!\\ \n",
      "Torchtext is deprecated and the last released version will be 0.18 (this one). You can silence this warning by calling the following at the beginnign of your scripts: `import torchtext; torchtext.disable_torchtext_deprecation_warning()`\n",
      "  warnings.warn(torchtext._TORCHTEXT_DEPRECATION_MSG)\n",
      ".vector_cache/glove.6B.zip: 862MB [02:39, 5.40MB/s]                             \n",
      "100%|███████████████████████████████▉| 399999/400000 [00:22<00:00, 17992.92it/s]\n"
     ]
    }
   ],
   "source": [
    "from torchtext.data import get_tokenizer\n",
    "from torchtext.vocab import GloVe\n",
    "tokenizer = get_tokenizer(\"basic_english\") ## We'll use tokenizer available from PyTorch\n",
    "global_vectors = GloVe(name='6B', dim=300)"
   ]
  },
  {
   "cell_type": "code",
   "execution_count": 4,
   "id": "2913b6ea",
   "metadata": {},
   "outputs": [],
   "source": [
    "embedding_list = []\n",
    "for text in dataset['train']['text']:\n",
    "    embedding_list.append(global_vectors.get_vecs_by_tokens(tokenizer(text), lower_case_backup=True))"
   ]
  },
  {
   "cell_type": "code",
   "execution_count": 5,
   "id": "ddebfc76",
   "metadata": {},
   "outputs": [],
   "source": [
    "from torch.nn.utils.rnn import pad_sequence\n",
    "inputs = pad_sequence(embedding_list,batch_first=True)"
   ]
  },
  {
   "cell_type": "code",
   "execution_count": 7,
   "id": "67f94641",
   "metadata": {},
   "outputs": [
    {
     "data": {
      "text/plain": [
       "(16000, 66, 300)"
      ]
     },
     "execution_count": 7,
     "metadata": {},
     "output_type": "execute_result"
    }
   ],
   "source": [
    "np.save(\"../npy/padded_nlp_inputs\",inputs)\n",
    "#load keypoint input array from local \n",
    "inputs= np.load(\"../npy/padded_nlp_inputs.npy\", allow_pickle = True)\n",
    "inputs.shape"
   ]
  },
  {
   "cell_type": "code",
   "execution_count": 7,
   "id": "d398b51a",
   "metadata": {},
   "outputs": [
    {
     "data": {
      "text/plain": [
       "15"
      ]
     },
     "execution_count": 7,
     "metadata": {},
     "output_type": "execute_result"
    }
   ],
   "source": [
    "import itertools\n",
    "gestures = []\n",
    "for i in Counter(dataset['train']['label']).keys():\n",
    "    gestures.append(i)\n",
    "pairs = list(itertools.combinations(gestures, 2))\n",
    "len(pairs)"
   ]
  },
  {
   "cell_type": "code",
   "execution_count": 8,
   "id": "21ef358f",
   "metadata": {},
   "outputs": [
    {
     "data": {
      "text/plain": [
       "[(0, 3),\n",
       " (0, 2),\n",
       " (0, 5),\n",
       " (0, 4),\n",
       " (0, 1),\n",
       " (3, 2),\n",
       " (3, 5),\n",
       " (3, 4),\n",
       " (3, 1),\n",
       " (2, 5),\n",
       " (2, 4),\n",
       " (2, 1),\n",
       " (5, 4),\n",
       " (5, 1),\n",
       " (4, 1)]"
      ]
     },
     "execution_count": 8,
     "metadata": {},
     "output_type": "execute_result"
    }
   ],
   "source": [
    "# np.array(pairs).dump(open('pairs.npy', 'wb'))\n",
    "# pairs = np.load(open('pairs.npy', 'rb'), allow_pickle = True)\n",
    "pairs"
   ]
  }
 ],
 "metadata": {
  "kernelspec": {
   "display_name": "Python 3 (ipykernel)",
   "language": "python",
   "name": "python3"
  },
  "language_info": {
   "codemirror_mode": {
    "name": "ipython",
    "version": 3
   },
   "file_extension": ".py",
   "mimetype": "text/x-python",
   "name": "python",
   "nbconvert_exporter": "python",
   "pygments_lexer": "ipython3",
   "version": "3.10.12"
  }
 },
 "nbformat": 4,
 "nbformat_minor": 5
}
